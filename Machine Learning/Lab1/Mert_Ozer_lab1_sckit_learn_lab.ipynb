{
 "cells": [
  {
   "cell_type": "code",
   "execution_count": 1,
   "metadata": {
    "collapsed": true
   },
   "outputs": [],
   "source": [
    "import numpy as np\n",
    "import pandas as pd\n",
    "from sklearn import datasets"
   ]
  },
  {
   "cell_type": "code",
   "execution_count": 2,
   "metadata": {},
   "outputs": [
    {
     "data": {
      "text/plain": [
       "array([0, 1, 2])"
      ]
     },
     "execution_count": 2,
     "metadata": {},
     "output_type": "execute_result"
    }
   ],
   "source": [
    "iris = datasets.load_iris()\n",
    "iris_X = iris.data\n",
    "iris_y = iris.target\n",
    "np.unique(iris_y)"
   ]
  },
  {
   "cell_type": "code",
   "execution_count": 3,
   "metadata": {
    "collapsed": true
   },
   "outputs": [],
   "source": [
    "# split iris data in taring and test data\n",
    "# A random permuatation, to split the data randomly \n",
    "\n",
    "#np.random.seed(0) just to get same randoms every time\n",
    "np.random.seed(0)\n",
    "\n",
    "# shuffle vs permutation\n",
    "indices = np.random.permutation(len(iris_X))\n",
    "iris_X_train = iris_X[indices[:-10]]\n",
    "iris_y_train = iris_y[indices[:-10]]\n",
    "iris_X_test = iris_X[indices[-10:]]\n",
    "iris_y_test = iris_y[indices[-10:]]"
   ]
  },
  {
   "cell_type": "code",
   "execution_count": 4,
   "metadata": {
    "collapsed": true
   },
   "outputs": [],
   "source": [
    "# create and fit a k-nearest-neighbor classifier\n",
    "from sklearn.metrics import accuracy_score\n",
    "from sklearn.neighbors import KNeighborsClassifier\n",
    "def getPredictionForK(neighbours):\n",
    "    knn = KNeighborsClassifier(neighbours)\n",
    "    knn.fit(iris_X_train, iris_y_train)\n",
    "    return knn.predict(iris_X_test)"
   ]
  },
  {
   "cell_type": "code",
   "execution_count": 5,
   "metadata": {
    "collapsed": true
   },
   "outputs": [],
   "source": [
    "# Write error of the classifier\n",
    "# I could have use \"accuracy_score\" function to estimate the error rate since I would have return 1- \"accuracy_score\"\n",
    "# but from what I understand from assaignment, you want us to implement our own function error functiion.\n",
    "def my_error_rate(output, prediction):\n",
    "    true_no = 0\n",
    "    for a,b in zip(output,prediction):\n",
    "       if (a == b):\n",
    "            true_no +=1\n",
    "    return 1 - (true_no / len(output))"
   ]
  },
  {
   "cell_type": "code",
   "execution_count": 6,
   "metadata": {},
   "outputs": [
    {
     "data": {
      "image/png": "[encoded data removed]",
      "text/plain": [
       "<matplotlib.figure.Figure at 0x7f6a57551b70>"
      ]
     },
     "metadata": {},
     "output_type": "display_data"
    },
    {
     "name": "stdout",
     "output_type": "stream",
     "text": [
      "Optimal K is =  7\n"
     ]
    }
   ],
   "source": [
    "# What is the optimal parameter k of the k-nearest-neighbor classifier for this dataset?\n",
    "import matplotlib.pyplot as plt\n",
    "\n",
    "\n",
    "def runKnn_and_calculate_error(neighbours_number):\n",
    "    # train for neighbours_number and return prediction.\n",
    "    y_test_prediction = getPredictionForK(neighbours_number)\n",
    "    # return error rate\n",
    "    return my_error_rate(iris_y_test,y_test_prediction)\n",
    "\n",
    "errors = []\n",
    "for i in range (1,140):\n",
    "    errors.append(runKnn_and_calculate_error(i))\n",
    "plt.plot(errors)\n",
    "plt.ylabel('Error rate')\n",
    "plt.xlabel('K')\n",
    "plt.show()\n",
    "\n",
    "# As we can see all possible K's has been investegated, and there are many optimal K parameters that satisfies 0 error rate.\n",
    "x = min(float(s) for s in errors)\n",
    "\n",
    "print (\"Optimal K is = \",errors.index(x))"
   ]
  },
  {
   "cell_type": "code",
   "execution_count": 7,
   "metadata": {
    "scrolled": true
   },
   "outputs": [
    {
     "name": "stdout",
     "output_type": "stream",
     "text": [
      "Accuracy of the svm classifier with cross validation: 0.98 (+/- 0.06)\n",
      "The accuracy of the svm classifier on training data without cross validation is  0.971428571429\n",
      "The accuracy of the svm classifier on test data without cross validation is   1.0\n"
     ]
    }
   ],
   "source": [
    "# Svm classifier\n",
    "from sklearn.model_selection import cross_val_score\n",
    "from sklearn.preprocessing import StandardScaler\n",
    "from sklearn.svm import SVC\n",
    "\n",
    "standardize = StandardScaler()\n",
    "\n",
    "# Compute the mean and std to be used for later scaling.\n",
    "standardize.fit(iris_X_train)\n",
    "\n",
    "# Fit to data, then transform it. \n",
    "# Fits transformer to X and y with optional parameters fit_params and returns a transformed version of X.\n",
    "X_train_std = standardize.transform(iris_X_train)\n",
    "X_test_std = standardize.transform(iris_X_test)\n",
    "\n",
    "# gamma parameter defines how far the influence of a single training example reaches, \n",
    "# with low values meaning ‘far’ and high values meaning ‘close’. \n",
    "\n",
    "# The C parameter trades off misclassification of training examples against simplicity of the decision surface.\n",
    "# A low C makes the decision surface smooth, while a high C aims at \n",
    "# classifying all training examples correctly by giving the model freedom to select more samples as support vectors.\n",
    "\n",
    "svm_clf = SVC()\n",
    "# Use cross-validation to evaluate the classifiers.\n",
    "\n",
    "scores = cross_val_score(svm_clf, iris_X, iris_y, cv=10)\n",
    "print(\"Accuracy of the svm classifier with cross validation: %0.2f (+/- %0.2f)\" % (scores.mean(), scores.std() * 2))\n",
    "\n",
    "\n",
    "svm_clf.fit(X_train_std, iris_y_train)\n",
    "print('The accuracy of the svm classifier on training data without cross validation is ',svm_clf.score(X_train_std, iris_y_train))\n",
    "\n",
    "print('The accuracy of the svm classifier on test data without cross validation is  ',svm_clf.score(X_test_std, iris_y_test))\n",
    "\n",
    "# scaling the input data gives a better score\n",
    "\n",
    "#clf = SVC()\n",
    "#clf.fit(iris_X_train, iris_y_train)\n",
    "#print('The accuracy of the svm classifier on training data is ',clf.score(iris_X_train, iris_y_train))\n",
    "#print('The accuracy of the svm classifier on test data is ',clf.score(iris_X_test, iris_y_test))"
   ]
  },
  {
   "cell_type": "code",
   "execution_count": 8,
   "metadata": {},
   "outputs": [
    {
     "name": "stderr",
     "output_type": "stream",
     "text": [
      "/home/mert/anaconda3/lib/python3.6/site-packages/sklearn/cross_validation.py:44: DeprecationWarning: This module was deprecated in version 0.18 in favor of the model_selection module into which all the refactored classes and functions are moved. Also note that the interface of the new CV iterators are different from that of this module. This module will be removed in 0.20.\n",
      "  \"This module will be removed in 0.20.\", DeprecationWarning)\n"
     ]
    },
    {
     "name": "stdout",
     "output_type": "stream",
     "text": [
      "Accuracy of the xgb classifier with cross validation: 0.96 (+/- 0.07)\n",
      "The accuracy of the xgb classifier on training data without cross validation is 1.0\n",
      "The accuracy of the xgb classifier on test data without cross validation is 0.9\n"
     ]
    }
   ],
   "source": [
    "import xgboost as xgb\n",
    "xgb_clf = xgb.XGBClassifier()\n",
    "\n",
    "scores = cross_val_score(xgb_clf, iris_X, iris_y, cv=10)\n",
    "print(\"Accuracy of the xgb classifier with cross validation: %0.2f (+/- %0.2f)\" % (scores.mean(), scores.std() * 2))\n",
    "\n",
    "\n",
    "xgb_clf = xgb_clf.fit(X_train_std, iris_y_train)\n",
    "print('The accuracy of the xgb classifier on training data without cross validation is',xgb_clf.score(X_train_std, iris_y_train))\n",
    "print('The accuracy of the xgb classifier on test data without cross validation is',xgb_clf.score(X_test_std, iris_y_test))"
   ]
  },
  {
   "cell_type": "code",
   "execution_count": 9,
   "metadata": {},
   "outputs": [
    {
     "name": "stdout",
     "output_type": "stream",
     "text": [
      "Accuracy of the knn classifier with cross validation: 0.97 (+/- 0.09)\n"
     ]
    }
   ],
   "source": [
    "# optimal k was 7\n",
    "knn_clf = KNeighborsClassifier(7)\n",
    "\n",
    "scores = cross_val_score(knn_clf, iris_X, iris_y, cv=10)\n",
    "print(\"Accuracy of the knn classifier with cross validation: %0.2f (+/- %0.2f)\" % (scores.mean(), scores.std() * 2))"
   ]
  },
  {
   "cell_type": "code",
   "execution_count": 10,
   "metadata": {
    "collapsed": true
   },
   "outputs": [],
   "source": [
    "# Compare evaluation results of the three classifiers\n",
    "\n",
    "# Result of Cross-validation with 10 folds\n",
    "\n",
    "# For knn classifier with k = 7, accuracy on test data was 0.97 (+/- 0.09)\n",
    "# For Svm classifier, accuracy on test data was 0.98 (+/- 0.06)\n",
    "# For Xgb classifier, accuracy on test data was 0.96 (+/- 0.07)\n",
    "\n",
    "# So by comparing accuracy, we can say that svm algorithm gave better result for this dataset."
   ]
  }
 ],
 "metadata": {
  "kernelspec": {
   "display_name": "Python 3",
   "language": "python",
   "name": "python3"
  },
  "language_info": {
   "codemirror_mode": {
    "name": "ipython",
    "version": 3
   },
   "file_extension": ".py",
   "mimetype": "text/x-python",
   "name": "python",
   "nbconvert_exporter": "python",
   "pygments_lexer": "ipython3",
   "version": "3.6.1"
  }
 },
 "nbformat": 4,
 "nbformat_minor": 2
}
