{
 "cells": [
  {
   "cell_type": "code",
   "execution_count": 1,
   "metadata": {
    "collapsed": true,
    "scrolled": true
   },
   "outputs": [],
   "source": [
    "# 1. Write a majority class classifier: a classifier that predicts the class label that is more frequent in the dataset\n",
    "class MajorityClassifier:\n",
    "    \n",
    "    def __init__ (self):\n",
    "        self.zero = 0\n",
    "        self.one = 0\n",
    "        return\n",
    "    \n",
    "    def fit(self,x,y):\n",
    "        for number in y:\n",
    "            if (number == 0):\n",
    "                self.zero += 1\n",
    "            self.one += 1\n",
    "        return self;\n",
    "    \n",
    "    def predict(self,x):\n",
    "        Y = []      \n",
    "        if self.zero > self.one :\n",
    "            output = 0\n",
    "        else:\n",
    "            output = 1\n",
    "        for i in range(0,x.size):\n",
    "            Y.append(output)\n",
    "                \n",
    "        return Y\n",
    "    \n",
    "    def my_error_rate(self,output, prediction):\n",
    "        true_no = 0\n",
    "        for a,b in zip(output,prediction):\n",
    "           if (a == b):\n",
    "                true_no +=1\n",
    "        return 1 - (true_no / len(output))"
   ]
  },
  {
   "cell_type": "code",
   "execution_count": 2,
   "metadata": {
    "collapsed": true
   },
   "outputs": [],
   "source": [
    "import numpy as np\n",
    "import pandas as pd\n",
    "from sklearn import datasets\n",
    "from sklearn.datasets import load_breast_cancer"
   ]
  },
  {
   "cell_type": "code",
   "execution_count": 3,
   "metadata": {},
   "outputs": [],
   "source": [
    "breast_cancer = load_breast_cancer()\n",
    "\n",
    "cancer_X = breast_cancer.data\n",
    "cancer_y = breast_cancer.target\n",
    "# print (cancer_X.shape) (569,30)\n",
    "np.random.seed(0)\n",
    "indices = np.random.permutation(len(cancer_X))\n",
    "\n",
    "cancer_X_train = cancer_X[indices[:-400]]\n",
    "cancer_y_train = cancer_y[indices[:-400]]\n",
    "cancer_X_test = cancer_X[indices[-400:]]\n",
    "cancer_y_test = cancer_y[indices[-400:]]"
   ]
  },
  {
   "cell_type": "code",
   "execution_count": 4,
   "metadata": {
    "collapsed": true
   },
   "outputs": [],
   "source": [
    "my_class = MajorityClassifier()\n",
    "\n",
    "my_class.fit(cancer_X,cancer_y)\n",
    "\n",
    "prediction_Y = my_class.predict(cancer_X_test)"
   ]
  },
  {
   "cell_type": "code",
   "execution_count": 5,
   "metadata": {},
   "outputs": [
    {
     "name": "stdout",
     "output_type": "stream",
     "text": [
      "Majority classifier error rate is =  0.37250000000000005\n"
     ]
    }
   ],
   "source": [
    "print(\"Majority classifier error rate is = \",my_class.my_error_rate(cancer_y_test,prediction_Y))"
   ]
  },
  {
   "cell_type": "code",
   "execution_count": 6,
   "metadata": {
    "collapsed": true
   },
   "outputs": [],
   "source": [
    "# 2. Use the majority class classifier to evaluate one dataset, \n",
    "# and justify why the evaluation results using the new classifier are correct"
   ]
  },
  {
   "cell_type": "code",
   "execution_count": 7,
   "metadata": {},
   "outputs": [
    {
     "name": "stderr",
     "output_type": "stream",
     "text": [
      "/home/mert/anaconda3/lib/python3.6/site-packages/sklearn/cross_validation.py:44: DeprecationWarning: This module was deprecated in version 0.18 in favor of the model_selection module into which all the refactored classes and functions are moved. Also note that the interface of the new CV iterators are different from that of this module. This module will be removed in 0.20.\n",
      "  \"This module will be removed in 0.20.\", DeprecationWarning)\n"
     ]
    },
    {
     "name": "stdout",
     "output_type": "stream",
     "text": [
      "Accuracy of the xgb classifier with cross validation: 0.96 (+/- 0.05)\n"
     ]
    }
   ],
   "source": [
    "# this step is done for comparing with our classifier.\n",
    "import xgboost as xgb\n",
    "from sklearn.model_selection import cross_val_score\n",
    "xgb_clf = xgb.XGBClassifier()\n",
    "\n",
    "scores = cross_val_score(xgb_clf, cancer_X, cancer_y, cv=10)\n",
    "print(\"Accuracy of the xgb classifier with cross validation: %0.2f (+/- %0.2f)\" % (scores.mean(), scores.std() * 2))"
   ]
  },
  {
   "cell_type": "code",
   "execution_count": 8,
   "metadata": {
    "collapsed": true
   },
   "outputs": [],
   "source": [
    "# breast_cancer is used as dataset in this task. It is a binary classification problem.\n",
    "# MajorityClassifier is used to evaluate the output.\n",
    "# accuracy of this classifier was around 0.63\n",
    "# I tried xgboost classifier quickly and get a score of 0.96 (+/- 0.05)\n",
    "# It is even possible that this number could be higher.\n",
    "# So I would say that this Majority class classifier failed in this task.\n",
    "\n",
    "# where can we get a good score with use of majority classiffier?\n",
    "\n",
    "# An example would be anomaly detection.\n",
    "# If we have lots of input belonging to one class like (normal behaviour) we can say that classiffier would give a \n",
    "# good score\n",
    "# But of course, we cannot use it for anomaly detection, because it won't classify anomalies correctly,\n",
    "# but it will give a good score.\n",
    "\n",
    "# where can we get a bad score with majority classifier?\n",
    "\n",
    "# mostly, we can get a better score from other classifiers.\n",
    "# but if the output class has multiple variable, it may not at all make sense to use this classifier\n",
    "# because multiple variables will be assaigned to only one class and this will reduce the accuracy.\n",
    "\n",
    "# when should we use this classifier?\n",
    "\n",
    "# I believe, we should use it to compare with our model.\n",
    "# if the score of majority classifier is high, we should be careful in our classifier,\n",
    "# because we might be doing some lucky guesses.\n",
    "\n"
   ]
  },
  {
   "cell_type": "code",
   "execution_count": 9,
   "metadata": {
    "collapsed": true
   },
   "outputs": [],
   "source": [
    "# 3. OPTIONAL: create another classifier with higher performance than the majority class classifier"
   ]
  },
  {
   "cell_type": "code",
   "execution_count": null,
   "metadata": {
    "collapsed": true
   },
   "outputs": [],
   "source": []
  },
  {
   "cell_type": "code",
   "execution_count": null,
   "metadata": {
    "collapsed": true
   },
   "outputs": [],
   "source": []
  }
 ],
 "metadata": {
  "kernelspec": {
   "display_name": "Python 3",
   "language": "python",
   "name": "python3"
  },
  "language_info": {
   "codemirror_mode": {
    "name": "ipython",
    "version": 3
   },
   "file_extension": ".py",
   "mimetype": "text/x-python",
   "name": "python",
   "nbconvert_exporter": "python",
   "pygments_lexer": "ipython3",
   "version": "3.6.1"
  }
 },
 "nbformat": 4,
 "nbformat_minor": 2
}
