{
 "cells": [
  {
   "cell_type": "code",
   "execution_count": 1,
   "metadata": {
    "collapsed": false
   },
   "outputs": [],
   "source": [
    "from sympy import *\n",
    "from itertools import *\n",
    "import numpy as np\n",
    "init_printing()\n"
   ]
  },
  {
   "cell_type": "code",
   "execution_count": 2,
   "metadata": {
    "collapsed": true
   },
   "outputs": [],
   "source": [
    "#return subsets of S\n",
    "def subsets(S, k):\n",
    "  return [set(s) for s in combinations(S, k)]"
   ]
  },
  {
   "cell_type": "code",
   "execution_count": 3,
   "metadata": {
    "collapsed": false
   },
   "outputs": [],
   "source": [
    "#print every item in the list\n",
    "def print_all(iterable):\n",
    "  for item in iterable:\n",
    "    print (item)"
   ]
  },
  {
   "cell_type": "code",
   "execution_count": 4,
   "metadata": {
    "collapsed": false
   },
   "outputs": [
    {
     "data": {
      "image/png": "[encoded data removed]",
      "text/latex": [
       "$$8124$$"
      ],
      "text/plain": [
       "8124"
      ]
     },
     "execution_count": 4,
     "metadata": {},
     "output_type": "execute_result"
    }
   ],
   "source": [
    "# read data and assaign to T\n",
    "filePath = \"/home/mert/Downloads/apriopri.dat\"\n",
    "T = [set(i.strip().split()) for i in open(filePath).readlines()]\n",
    "\n",
    "len(T)\n"
   ]
  },
  {
   "cell_type": "code",
   "execution_count": 5,
   "metadata": {
    "collapsed": false
   },
   "outputs": [],
   "source": [
    "# find support count\n",
    "# how many times that item occurs in the whole list\n",
    "def support_count(X):\n",
    "  return S(sum(1 for x in T if X <= x))\n"
   ]
  },
  {
   "cell_type": "code",
   "execution_count": 6,
   "metadata": {
    "collapsed": false
   },
   "outputs": [
    {
     "data": {
      "image/png": "[encoded data removed]",
      "text/latex": [
       "$$11830$$"
      ],
      "text/plain": [
       "11830"
      ]
     },
     "execution_count": 6,
     "metadata": {},
     "output_type": "execute_result"
    }
   ],
   "source": [
    "x= support_count({'34'})\n",
    "y= support_count({'1'})\n",
    "x + y"
   ]
  },
  {
   "cell_type": "code",
   "execution_count": 7,
   "metadata": {
    "collapsed": true
   },
   "outputs": [],
   "source": [
    "#find support\n",
    "def support(X):\n",
    "  return support_count(X) / len(T)"
   ]
  },
  {
   "cell_type": "code",
   "execution_count": 8,
   "metadata": {
    "collapsed": false
   },
   "outputs": [],
   "source": [
    "# find the union of given sets\n",
    "def union_all(sets):\n",
    "  result = set()\n",
    "  for c in sets:\n",
    "    result = result | c\n",
    "  return result"
   ]
  },
  {
   "cell_type": "code",
   "execution_count": 9,
   "metadata": {
    "collapsed": false
   },
   "outputs": [],
   "source": [
    "def rule_confidence(xy):\n",
    "    # find confidence of x -> y\n",
    "    # did buyers of x bought the y?\n",
    "    #set x and y\n",
    "    x, y = xy\n",
    "    return (support_count(x | y)\n",
    "        / support_count(x))\n"
   ]
  },
  {
   "cell_type": "code",
   "execution_count": 10,
   "metadata": {
    "collapsed": false
   },
   "outputs": [],
   "source": [
    "def find_rules(l):\n",
    "  rules = []\n",
    "  # do for every itemset\n",
    "  for n in range(1, len(l)):\n",
    "    # create all subsets of the itemset\n",
    "    for c in subsets(l, n):\n",
    "      rule = (set(c), l - set(c))\n",
    "      # if it exceeds the treshold\n",
    "      if rule_confidence(rule) >= cmin:\n",
    "        rules.append(rule)\n",
    "  return rules\n"
   ]
  },
  {
   "cell_type": "code",
   "execution_count": 11,
   "metadata": {
    "collapsed": true
   },
   "outputs": [],
   "source": [
    "def good_candidate(c, P):\n",
    "  # check if candidate itemsets are frequent enough\n",
    "  for s in subsets(c, len(c) - 1):\n",
    "    if s not in P: return false\n",
    "  return True"
   ]
  },
  {
   "cell_type": "code",
   "execution_count": 12,
   "metadata": {
    "collapsed": true
   },
   "outputs": [],
   "source": [
    "def generate_candidates(P, k):\n",
    "  return subsets(union_all(P), k)"
   ]
  },
  {
   "cell_type": "code",
   "execution_count": 13,
   "metadata": {
    "collapsed": true
   },
   "outputs": [],
   "source": [
    "def frequent_k(P, k):\n",
    "  # generate candiadtes and check if itemsets exceeds given treshold\n",
    "  C = generate_candidates(P, k)\n",
    "  F = [c for c in C if good_candidate(c, P)]\n",
    "  return [f for f in F if support(f) >= smin]"
   ]
  },
  {
   "cell_type": "code",
   "execution_count": 14,
   "metadata": {
    "collapsed": true
   },
   "outputs": [],
   "source": [
    "def frequent_1():\n",
    "  #returns every single items that frequent enough \n",
    "  items = union_all(T)\n",
    "  return [{item}\n",
    "    for item in items\n",
    "      if support({item}) >= smin]"
   ]
  },
  {
   "cell_type": "code",
   "execution_count": 15,
   "metadata": {
    "collapsed": true
   },
   "outputs": [],
   "source": [
    "def apriori():\n",
    "  #main apriori algorithm\n",
    "  result = []\n",
    "  #create frequent item dataset  \n",
    "  L = frequent_1()\n",
    "  k = 1\n",
    "  while len(L) > 0:\n",
    "    result += L\n",
    "    k += 1\n",
    "    #get frequent itemsets. example get frequent item sets with 2 elements than with 3 elements and so on ...\n",
    "    L = frequent_k(L, k)\n",
    "  return result"
   ]
  },
  {
   "cell_type": "code",
   "execution_count": 16,
   "metadata": {
    "collapsed": false,
    "scrolled": true
   },
   "outputs": [
    {
     "data": {
      "text/plain": [
       "[{'34'},\n",
       " {'36'},\n",
       " {'90'},\n",
       " {'85'},\n",
       " {'86'},\n",
       " {'85', '86'},\n",
       " {'34', '86'},\n",
       " {'36', '86'},\n",
       " {'86', '90'},\n",
       " {'34', '85'},\n",
       " {'36', '85'},\n",
       " {'85', '90'},\n",
       " {'34', '36'},\n",
       " {'34', '90'},\n",
       " {'36', '90'},\n",
       " {'34', '85', '86'},\n",
       " {'36', '85', '86'},\n",
       " {'85', '86', '90'},\n",
       " {'34', '36', '86'},\n",
       " {'34', '86', '90'},\n",
       " {'36', '86', '90'},\n",
       " {'34', '36', '85'},\n",
       " {'34', '85', '90'},\n",
       " {'36', '85', '90'},\n",
       " {'34', '36', '90'},\n",
       " {'34', '36', '86', '90'},\n",
       " {'34', '36', '85', '86'},\n",
       " {'34', '85', '86', '90'},\n",
       " {'36', '85', '86', '90'},\n",
       " {'34', '36', '85', '90'},\n",
       " {'34', '36', '85', '86', '90'}]"
      ]
     },
     "execution_count": 16,
     "metadata": {},
     "output_type": "execute_result"
    }
   ],
   "source": [
    "smin = 0.7\n",
    "\n",
    "L = apriori()\n",
    "L"
   ]
  },
  {
   "cell_type": "code",
   "execution_count": 17,
   "metadata": {
    "collapsed": false
   },
   "outputs": [
    {
     "data": {
      "text/plain": [
       "[({'86'}, {'85'}),\n",
       " ({'85'}, {'86'}),\n",
       " ({'86'}, {'34'}),\n",
       " ({'34'}, {'86'}),\n",
       " ({'36'}, {'86'}),\n",
       " ({'86'}, {'90'}),\n",
       " ({'90'}, {'86'}),\n",
       " ({'85'}, {'34'}),\n",
       " ({'34'}, {'85'}),\n",
       " ({'36'}, {'85'}),\n",
       " ({'85'}, {'90'}),\n",
       " ({'90'}, {'85'}),\n",
       " ({'36'}, {'34'}),\n",
       " ({'34'}, {'90'}),\n",
       " ({'90'}, {'34'}),\n",
       " ({'36'}, {'90'}),\n",
       " ({'86'}, {'34', '85'}),\n",
       " ({'85'}, {'34', '86'}),\n",
       " ({'34'}, {'85', '86'}),\n",
       " ({'85', '86'}, {'34'}),\n",
       " ({'34', '86'}, {'85'}),\n",
       " ({'34', '85'}, {'86'}),\n",
       " ({'36'}, {'85', '86'}),\n",
       " ({'36', '86'}, {'85'}),\n",
       " ({'36', '85'}, {'86'}),\n",
       " ({'86'}, {'85', '90'}),\n",
       " ({'90'}, {'85', '86'}),\n",
       " ({'85', '86'}, {'90'}),\n",
       " ({'86', '90'}, {'85'}),\n",
       " ({'85', '90'}, {'86'}),\n",
       " ({'36'}, {'34', '86'}),\n",
       " ({'36', '86'}, {'34'}),\n",
       " ({'34', '36'}, {'86'}),\n",
       " ({'86'}, {'34', '90'}),\n",
       " ({'34'}, {'86', '90'}),\n",
       " ({'90'}, {'34', '86'}),\n",
       " ({'34', '86'}, {'90'}),\n",
       " ({'86', '90'}, {'34'}),\n",
       " ({'34', '90'}, {'86'}),\n",
       " ({'36'}, {'86', '90'}),\n",
       " ({'36', '86'}, {'90'}),\n",
       " ({'36', '90'}, {'86'}),\n",
       " ({'36'}, {'34', '85'}),\n",
       " ({'36', '85'}, {'34'}),\n",
       " ({'34', '36'}, {'85'}),\n",
       " ({'34'}, {'85', '90'}),\n",
       " ({'90'}, {'34', '85'}),\n",
       " ({'34', '85'}, {'90'}),\n",
       " ({'85', '90'}, {'34'}),\n",
       " ({'34', '90'}, {'85'}),\n",
       " ({'36'}, {'85', '90'}),\n",
       " ({'36', '85'}, {'90'}),\n",
       " ({'36', '90'}, {'85'}),\n",
       " ({'36'}, {'34', '90'}),\n",
       " ({'34', '36'}, {'90'}),\n",
       " ({'36', '90'}, {'34'}),\n",
       " ({'36'}, {'34', '86', '90'}),\n",
       " ({'36', '86'}, {'34', '90'}),\n",
       " ({'34', '36'}, {'86', '90'}),\n",
       " ({'36', '90'}, {'34', '86'}),\n",
       " ({'34', '36', '86'}, {'90'}),\n",
       " ({'36', '86', '90'}, {'34'}),\n",
       " ({'34', '36', '90'}, {'86'}),\n",
       " ({'36'}, {'34', '85', '86'}),\n",
       " ({'36', '86'}, {'34', '85'}),\n",
       " ({'36', '85'}, {'34', '86'}),\n",
       " ({'34', '36'}, {'85', '86'}),\n",
       " ({'36', '85', '86'}, {'34'}),\n",
       " ({'34', '36', '86'}, {'85'}),\n",
       " ({'34', '36', '85'}, {'86'}),\n",
       " ({'86'}, {'34', '85', '90'}),\n",
       " ({'34'}, {'85', '86', '90'}),\n",
       " ({'90'}, {'34', '85', '86'}),\n",
       " ({'85', '86'}, {'34', '90'}),\n",
       " ({'34', '86'}, {'85', '90'}),\n",
       " ({'86', '90'}, {'34', '85'}),\n",
       " ({'34', '85'}, {'86', '90'}),\n",
       " ({'85', '90'}, {'34', '86'}),\n",
       " ({'34', '90'}, {'85', '86'}),\n",
       " ({'34', '85', '86'}, {'90'}),\n",
       " ({'85', '86', '90'}, {'34'}),\n",
       " ({'34', '86', '90'}, {'85'}),\n",
       " ({'34', '85', '90'}, {'86'}),\n",
       " ({'36'}, {'85', '86', '90'}),\n",
       " ({'36', '86'}, {'85', '90'}),\n",
       " ({'36', '85'}, {'86', '90'}),\n",
       " ({'36', '90'}, {'85', '86'}),\n",
       " ({'36', '85', '86'}, {'90'}),\n",
       " ({'36', '86', '90'}, {'85'}),\n",
       " ({'36', '85', '90'}, {'86'}),\n",
       " ({'36'}, {'34', '85', '90'}),\n",
       " ({'36', '85'}, {'34', '90'}),\n",
       " ({'34', '36'}, {'85', '90'}),\n",
       " ({'36', '90'}, {'34', '85'}),\n",
       " ({'34', '36', '85'}, {'90'}),\n",
       " ({'36', '85', '90'}, {'34'}),\n",
       " ({'34', '36', '90'}, {'85'}),\n",
       " ({'36'}, {'34', '85', '86', '90'}),\n",
       " ({'36', '86'}, {'34', '85', '90'}),\n",
       " ({'36', '85'}, {'34', '86', '90'}),\n",
       " ({'34', '36'}, {'85', '86', '90'}),\n",
       " ({'36', '90'}, {'34', '85', '86'}),\n",
       " ({'36', '85', '86'}, {'34', '90'}),\n",
       " ({'34', '36', '86'}, {'85', '90'}),\n",
       " ({'36', '86', '90'}, {'34', '85'}),\n",
       " ({'34', '36', '85'}, {'86', '90'}),\n",
       " ({'36', '85', '90'}, {'34', '86'}),\n",
       " ({'34', '36', '90'}, {'85', '86'}),\n",
       " ({'34', '36', '85', '86'}, {'90'}),\n",
       " ({'36', '85', '86', '90'}, {'34'}),\n",
       " ({'34', '36', '86', '90'}, {'85'}),\n",
       " ({'34', '36', '85', '90'}, {'86'})]"
      ]
     },
     "execution_count": 17,
     "metadata": {},
     "output_type": "execute_result"
    }
   ],
   "source": [
    "cmin = 0.9\n",
    "[rule\n",
    "  for itemset in L\n",
    "    for rule in find_rules(itemset)]"
   ]
  }
 ],
 "metadata": {
  "kernelspec": {
   "display_name": "Python [Root]",
   "language": "python",
   "name": "Python [Root]"
  },
  "language_info": {
   "codemirror_mode": {
    "name": "ipython",
    "version": 3
   },
   "file_extension": ".py",
   "mimetype": "text/x-python",
   "name": "python",
   "nbconvert_exporter": "python",
   "pygments_lexer": "ipython3",
   "version": "3.5.2"
  }
 },
 "nbformat": 4,
 "nbformat_minor": 2
}
