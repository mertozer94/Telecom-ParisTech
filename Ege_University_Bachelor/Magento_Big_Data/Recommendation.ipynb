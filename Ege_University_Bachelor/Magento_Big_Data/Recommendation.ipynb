{
 "cells": [
  {
   "cell_type": "code",
   "execution_count": 1,
   "metadata": {
    "collapsed": false
   },
   "outputs": [],
   "source": [
    "import pandas as pd\n",
    "from pyspark import SparkContext, SparkConf\n",
    "from pyspark.sql import SQLContext\n",
    "import itertools\n",
    "from math import sqrt\n",
    "import math\n",
    "from operator import add\n",
    "from pyspark.mllib.recommendation import ALS\n",
    "from time import time"
   ]
  },
  {
   "cell_type": "code",
   "execution_count": 2,
   "metadata": {
    "collapsed": false
   },
   "outputs": [],
   "source": [
    "#read files\n",
    "mg_review = spark.read.format(\"com.databricks.spark.avro\")\\\n",
    ".load(\"hdfs://localhost:54310/user/hduser/mg_review/part-m-00000.avro\")\n",
    "\n",
    "mg_rating_option_vote = spark.read.format(\"com.databricks.spark.avro\")\\\n",
    ".load(\"hdfs://localhost:54310/user/hduser/mg_rating_option_vote/part-m-00000.avro\")\n",
    "\n",
    "mg_catalog_category_product_index = spark.read.format(\"com.databricks.spark.avro\")\\\n",
    ".load(\"hdfs://localhost:54310/user/hduser/mg_catalog_category_product_index/part-m-00000.avro\")\n",
    "\n",
    "mg_catalog_product_entity_text = spark.read.format(\"com.databricks.spark.avro\")\\\n",
    ".load(\"hdfs://localhost:54310/user/hduser/mg_catalog_product_entity_text/part-m-00000.avro\")\n"
   ]
  },
  {
   "cell_type": "code",
   "execution_count": 3,
   "metadata": {
    "collapsed": false,
    "scrolled": true
   },
   "outputs": [],
   "source": [
    "# |customer_id|entity_pk_value|value|\n",
    "\n",
    "#join two tables\n",
    "cond = [mg_review.review_id == mg_rating_option_vote.review_id, mg_rating_option_vote.customer_id > 0]\n",
    "joinedOne = mg_review.join(mg_rating_option_vote, cond, 'inner').select(mg_rating_option_vote.customer_id, \n",
    "                                                                     mg_review.entity_pk_value,\n",
    "                                                                     mg_rating_option_vote.value\n",
    "                                                                    ).collect()\n",
    "#make rdd from list\n",
    "rddOne = sc.parallelize(joinedOne).cache()\n"
   ]
  },
  {
   "cell_type": "code",
   "execution_count": 4,
   "metadata": {
    "collapsed": false,
    "scrolled": true
   },
   "outputs": [],
   "source": [
    "#|product_id|value|category_id| \n",
    "\n",
    "#join two tables\n",
    "cond = [mg_catalog_category_product_index.product_id == mg_catalog_product_entity_text.entity_id]\n",
    "joinedTwo = mg_catalog_category_product_index.join(mg_catalog_product_entity_text, cond, 'inner').select(\n",
    "                                                                     mg_catalog_category_product_index.product_id,\n",
    "                                                                     mg_catalog_product_entity_text.value,\n",
    "                                                                     mg_catalog_category_product_index.category_id \n",
    "                                                                     \n",
    "                                                                     \n",
    "                                                                     ).distinct().collect()\n",
    "\n",
    "joinedTwo = filter(None, joinedTwo)\n",
    "#make rdd from list\n",
    "rddTwo = sc.parallelize(joinedTwo).cache()"
   ]
  },
  {
   "cell_type": "code",
   "execution_count": 5,
   "metadata": {
    "collapsed": false
   },
   "outputs": [
    {
     "name": "stdout",
     "output_type": "stream",
     "text": [
      "Training: 60135, validation: 19907, test: 19958\n"
     ]
    }
   ],
   "source": [
    "#### split ratings into train (60%), validation (20%), and test (20%) \n",
    "\n",
    "# training, validation, test are all RDDs of (customer_id, entity_pk_value, value)\n",
    "\n",
    "\n",
    "#numPartitions = 4\n",
    "\n",
    "training_RDD, validation_RDD, test_RDD = rddOne.randomSplit([6, 2, 2], seed=0)   \n",
    "\n",
    "rating_data = rddOne.map(lambda tokens: (tokens[0],tokens[1],tokens[2])).cache()\n",
    "\n",
    "validation_for_predict_RDD = validation_RDD.map(lambda x: (x[0], x[1]))\n",
    "\n",
    "test_for_predict_RDD = test_RDD.map(lambda x: (x[0], x[1]))\n",
    "\n",
    "\n",
    "numTraining = training_RDD.count()\n",
    "numValidation = validation_RDD.count()\n",
    "numTest = test_RDD.count()\n",
    "\n",
    "print (\"Training: %d, validation: %d, test: %d\" % (numTraining, numValidation, numTest))\n",
    "\n"
   ]
  },
  {
   "cell_type": "code",
   "execution_count": 6,
   "metadata": {
    "collapsed": false
   },
   "outputs": [
    {
     "name": "stdout",
     "output_type": "stream",
     "text": [
      "For rank 4 the RMSE is 0.9636851542953062\n",
      "For rank 8 the RMSE is 0.9827735251062966\n",
      "For rank 12 the RMSE is 0.9839469044533\n",
      "The best model was trained with rank 4\n"
     ]
    }
   ],
   "source": [
    "#    sc.setCheckpointDir('checkpoint/')\n",
    "#    ALS.checkpointInterval = 2\n",
    "seed = 5\n",
    "iterations = 20\n",
    "regularization_parameter = 0.1\n",
    "ranks = [4, 8, 12]\n",
    "errors = [0, 0, 0]\n",
    "err = 0\n",
    "tolerance = 0.02\n",
    "\n",
    "min_error = float('inf')\n",
    "best_rank = -1\n",
    "best_iteration = -1\n",
    "\n",
    "for rank in ranks:\n",
    "    sc.setCheckpointDir('checkpoint/')\n",
    "    model = ALS.train(training_RDD, rank, seed=seed, iterations=iterations,lambda_=regularization_parameter)\n",
    "    ALS.checkpointInterval = 2\n",
    "    predictions = model.predictAll(validation_for_predict_RDD).map(lambda r: ((r[0], r[1]), r[2]))\n",
    "    rates_and_preds = validation_RDD.map(lambda r: ((int(r[0]), int(r[1])), float(r[2]))).join(predictions)\n",
    "    error = math.sqrt(rates_and_preds.map(lambda r: (r[1][0] - r[1][1])**2).mean())\n",
    "    errors[err] = error\n",
    "    err += 1\n",
    "    print ('For rank %s the RMSE is %s' % (rank, error))\n",
    "    if error < min_error:\n",
    "        min_error = error\n",
    "        best_rank = rank\n",
    "\n",
    "print ('The best model was trained with rank %s' % best_rank)"
   ]
  },
  {
   "cell_type": "code",
   "execution_count": 7,
   "metadata": {
    "collapsed": false
   },
   "outputs": [
    {
     "name": "stdout",
     "output_type": "stream",
     "text": [
      "For testing data the RMSE is 0.9773841605064202\n"
     ]
    }
   ],
   "source": [
    "model = ALS.train(training_RDD, best_rank, seed=seed, iterations=iterations,lambda_=regularization_parameter)\n",
    "predictions = model.predictAll(test_for_predict_RDD).map(lambda r: ((r[0], r[1]), r[2]))\n",
    "rates_and_preds = test_RDD.map(lambda r: ((int(r[0]), int(r[1])), float(r[2]))).join(predictions)\n",
    "error = math.sqrt(rates_and_preds.map(lambda r: (r[1][0] - r[1][1])**2).mean())\n",
    "    \n",
    "print ('For testing data the RMSE is %s' % (error))\n"
   ]
  },
  {
   "cell_type": "code",
   "execution_count": 10,
   "metadata": {
    "collapsed": false
   },
   "outputs": [],
   "source": [
    "product_data = rddTwo.map(lambda tokens: (int(tokens[0]),tokens[1],tokens[2])).cache()"
   ]
  },
  {
   "cell_type": "code",
   "execution_count": 12,
   "metadata": {
    "collapsed": false
   },
   "outputs": [
    {
     "name": "stdout",
     "output_type": "stream",
     "text": [
      "[(348, 'Leather. Inside zipper. 3-button outside detail. 4.5\" heel, 1\" platform, 3.5\" equiv. Leather insole and lining. Red sole. Made in Italy.')]\n"
     ]
    }
   ],
   "source": [
    "product_titles = product_data.map(lambda x: (int(x[0]),x[1]))\n",
    "    \n",
    "print (product_titles.take(1))"
   ]
  },
  {
   "cell_type": "code",
   "execution_count": 14,
   "metadata": {
    "collapsed": false
   },
   "outputs": [],
   "source": [
    "def get_counts_and_averages(ID_and_ratings_tuple):\n",
    "    nratings = len(ID_and_ratings_tuple[1])\n",
    "    return ID_and_ratings_tuple[0], (nratings, float(sum(x for x in ID_and_ratings_tuple[1]))/nratings)\n",
    "\n",
    "# groupbykey When called on a dataset of (K, V) pairs, returns a dataset of (K, Iterable<V>) pairs.\n",
    "product_ID_with_ratings_RDD = (rating_data.map(lambda x: (x[1], x[2])).groupByKey())\n",
    "product_ID_with_avg_ratings_RDD = product_ID_with_ratings_RDD.map(get_counts_and_averages)\n",
    "product_rating_counts_RDD = product_ID_with_avg_ratings_RDD.map(lambda x: (x[0], x[1][0]))"
   ]
  },
  {
   "cell_type": "code",
   "execution_count": 15,
   "metadata": {
    "collapsed": false
   },
   "outputs": [
    {
     "name": "stdout",
     "output_type": "stream",
     "text": [
      "New user ratings: [(0, 260, 4), (0, 1, 3), (0, 16, 3), (0, 25, 4), (0, 32, 4), (0, 335, 1), (0, 379, 1), (0, 296, 3), (0, 858, 5), (0, 50, 4)]\n"
     ]
    }
   ],
   "source": [
    "new_user_ID = 0\n",
    "\n",
    "# The format of each line is (customerID, productID, rating)\n",
    "# example of new user rating\n",
    "new_user_ratings = [\n",
    "     (0,260,4), \n",
    "     (0,1,3), \n",
    "     (0,16,3), \n",
    "     (0,25,4), \n",
    "     (0,32,4), \n",
    "     (0,335,1), \n",
    "     (0,379,1), \n",
    "     (0,296,3),\n",
    "     (0,858,5), \n",
    "     (0,50,4) \n",
    "    ]\n",
    "new_user_ratings_RDD = sc.parallelize(new_user_ratings)\n",
    "print ('New user ratings: %s' % new_user_ratings_RDD.take(10))\n"
   ]
  },
  {
   "cell_type": "code",
   "execution_count": 16,
   "metadata": {
    "collapsed": true
   },
   "outputs": [],
   "source": [
    "complete_data_with_new_ratings_RDD = rating_data.union(new_user_ratings_RDD)"
   ]
  },
  {
   "cell_type": "code",
   "execution_count": 17,
   "metadata": {
    "collapsed": false
   },
   "outputs": [
    {
     "name": "stdout",
     "output_type": "stream",
     "text": [
      "New model trained in 2.881 seconds\n"
     ]
    }
   ],
   "source": [
    "t0 = time()\n",
    "new_ratings_model = ALS.train(complete_data_with_new_ratings_RDD, best_rank, seed=seed, \n",
    "                              iterations=iterations, lambda_=regularization_parameter)\n",
    "tt = time() - t0\n",
    "\n",
    "print (\"New model trained in %s seconds\" % round(tt,3))"
   ]
  },
  {
   "cell_type": "code",
   "execution_count": 26,
   "metadata": {
    "collapsed": true
   },
   "outputs": [],
   "source": [
    "new_user_ratings_ids = map(lambda x: x[1], new_user_ratings) # get just product IDs\n",
    "# keep just those not on the ID list \n",
    "new_user_unrated_product_RDD = (complete_data_with_new_ratings_RDD.filter(lambda x: x[0] not in new_user_ratings_ids).map(lambda x: (new_user_ID, x[0])))\n",
    "\n",
    "# Use the input RDD, new_user_unrated_movies_RDD, with new_ratings_model.predictAll() to predict new ratings for the products\n",
    "new_user_recommendations_RDD = new_ratings_model.predictAll(new_user_unrated_product_RDD)"
   ]
  },
  {
   "cell_type": "code",
   "execution_count": 27,
   "metadata": {
    "collapsed": false
   },
   "outputs": [
    {
     "data": {
      "text/plain": [
       "[(252, ((1.9737859159948208, None), 41)),\n",
       " (252,\n",
       "  ((1.9737859159948208,\n",
       "    'Ultrasoft, lightweight V-neck tee. 100% cotton. Machine wash.'),\n",
       "   41)),\n",
       " (252, ((1.9737859159948208, None), 41))]"
      ]
     },
     "execution_count": 27,
     "metadata": {},
     "output_type": "execute_result"
    }
   ],
   "source": [
    "# Transform new_user_recommendations_RDD into pairs of the form (Movie ID, Predicted Rating)\n",
    "new_user_recommendations_rating_RDD = new_user_recommendations_RDD.map(lambda x: (x.product, x.rating))\n",
    "new_user_recommendations_rating_title_and_count_RDD = \\\n",
    "    new_user_recommendations_rating_RDD.join(product_titles).join(product_rating_counts_RDD)\n",
    "new_user_recommendations_rating_title_and_count_RDD.take(3)\n"
   ]
  },
  {
   "cell_type": "code",
   "execution_count": 28,
   "metadata": {
    "collapsed": true
   },
   "outputs": [],
   "source": [
    "new_user_recommendations_rating_title_and_count_RDD = \\\n",
    "    new_user_recommendations_rating_title_and_count_RDD.map(lambda r: (r[1][0][1], r[1][0][0], r[1][1]))"
   ]
  },
  {
   "cell_type": "code",
   "execution_count": 29,
   "metadata": {
    "collapsed": false
   },
   "outputs": [
    {
     "name": "stdout",
     "output_type": "stream",
     "text": [
      "TOP recommended product (with more than 25 reviews):\n",
      "('Sleek and modern, our form flattering blazer carries a slightly relaxed, yet structured shape. Timeless in any time zone.', 4.043999512271116, 61)\n"
     ]
    }
   ],
   "source": [
    "top_movies = new_user_recommendations_rating_title_and_count_RDD.filter(lambda r: r[2]>=25).takeOrdered(1, key=lambda x: -x[1])\n",
    "\n",
    "print ('TOP recommended product (with more than 25 reviews):\\n%s' %\n",
    "        '\\n'.join(map(str, top_movies)))"
   ]
  },
  {
   "cell_type": "code",
   "execution_count": null,
   "metadata": {
    "collapsed": true
   },
   "outputs": [],
   "source": []
  }
 ],
 "metadata": {
  "kernelspec": {
   "display_name": "Python [Root]",
   "language": "python",
   "name": "Python [Root]"
  },
  "language_info": {
   "codemirror_mode": {
    "name": "ipython",
    "version": 3
   },
   "file_extension": ".py",
   "mimetype": "text/x-python",
   "name": "python",
   "nbconvert_exporter": "python",
   "pygments_lexer": "ipython3",
   "version": "3.5.2"
  }
 },
 "nbformat": 4,
 "nbformat_minor": 2
}
