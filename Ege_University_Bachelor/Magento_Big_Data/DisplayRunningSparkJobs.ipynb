{
 "cells": [
  {
   "cell_type": "code",
   "execution_count": 1,
   "metadata": {
    "collapsed": false
   },
   "outputs": [],
   "source": [
    "#import necessary modules.\n",
    "from pyspark import SparkContext, SparkConf\n",
    "import requests\n",
    "import json\n",
    "from IPython.display import HTML, Javascript, display, clear_output\n",
    "import time\n"
   ]
  },
  {
   "cell_type": "code",
   "execution_count": 2,
   "metadata": {
    "collapsed": false,
    "scrolled": false
   },
   "outputs": [],
   "source": [
    "# A Spark job function.\n",
    "def wordCountExample():   \n",
    "    \n",
    "    #alice30.txt file url\n",
    "    fileInputUrl = '/home/mert/Downloads/alice30.txt'\n",
    "\n",
    "    distFile = sc.textFile(fileInputUrl)\n",
    "\n",
    "    nonempty_lines = distFile.filter(lambda x: len(x) > 0)\n",
    "\n",
    "    words = nonempty_lines.flatMap(lambda x: x.split(' '))\n",
    "\n",
    "    wordcounts = words.map(lambda x: (x, 1)) \\\n",
    "                      .reduceByKey(lambda x, y: x+y) \\\n",
    "                      .map(lambda x: (x[1], x[0])).sortByKey(False)\n",
    "\n",
    "    wordcounts.take(1000)\n"
   ]
  },
  {
   "cell_type": "code",
   "execution_count": 3,
   "metadata": {
    "collapsed": false
   },
   "outputs": [],
   "source": [
    "# This function returns the desired element from the Rest Api. \n",
    "def getAppId(url,option):    \n",
    "    response = requests.get(url)\n",
    "    data = response.json()\n",
    "    for element in data:\n",
    "        parsed =(element[option])\n",
    "        return parsed"
   ]
  },
  {
   "cell_type": "code",
   "execution_count": 4,
   "metadata": {
    "collapsed": false,
    "scrolled": true
   },
   "outputs": [
    {
     "name": "stdout",
     "output_type": "stream",
     "text": [
      "All jobs link: http://localhost:4040/api/v1/applications/local-1490805322357/jobs/\n",
      "All succeded jobs link: http://localhost:4040/api/v1/applications/local-1490805322357/jobs/?status=SUCCEEDED\n",
      "All running jobs link: http://localhost:4040/api/v1/applications/local-1490805322357/jobs/?status=running\n"
     ]
    }
   ],
   "source": [
    "# We are ready to use Spark Rest Api.\n",
    "\n",
    "url= \"http://localhost:4040/api/v1/applications/\"\n",
    "\n",
    "# In this case this function returns application id.\n",
    "appId = getAppId(url,\"id\")\n",
    "\n",
    "\n",
    "#we get our endpoints.\n",
    "allJobsUrl = \"http://localhost:4040/api/v1/applications/\" + appId + \"/jobs/\"\n",
    "\n",
    "allSucceededJobsUrl = allJobsUrl + \"?status=SUCCEEDED\"\n",
    "\n",
    "allRunningJobsUrl = allJobsUrl + \"?status=running\"\n",
    "\n",
    "\n",
    "print (\"All jobs link: \"+ allJobsUrl)\n",
    "print (\"All succeded jobs link: \"+ allSucceededJobsUrl)\n",
    "print (\"All running jobs link: \"+ allRunningJobsUrl)\n"
   ]
  },
  {
   "cell_type": "code",
   "execution_count": 5,
   "metadata": {
    "collapsed": false
   },
   "outputs": [],
   "source": [
    "# This is Java Script and Html Code for the progress bar.\n",
    "# This bar will dynamically change for given inputs.\n",
    "def ProgressBar(jobId,percentage):    \n",
    "    clear_output(wait=True)\n",
    "    display( \n",
    "        HTML(\n",
    "    '''\n",
    "\n",
    "    <html>\n",
    "        \n",
    "    <script>\n",
    "    function move() {\n",
    "      var elem = document.getElementById(\"myBar\");   \n",
    "      var width = 1;\n",
    "      var id = setInterval(frame, 100);\n",
    "      function frame() {\n",
    "        if (width >= 100* '''+ percentage +''' ) {\n",
    "          clearInterval(id);\n",
    "        } else {\n",
    "          width++; \n",
    "          elem.style.width = width + '%'; \n",
    "          elem.innerHTML = width * 1  + '%';\n",
    "        }\n",
    "      }\n",
    "    }\n",
    "    </script>\n",
    "    \n",
    "    <style>\n",
    "    #myProgress {\n",
    "      width: 100%;\n",
    "      background-color: #ddd;\n",
    "    }\n",
    "\n",
    "    #myBar {\n",
    "      width: 0%;\n",
    "      height: 30px;\n",
    "      background-color: #4CAF50;\n",
    "      text-align: center;\n",
    "      line-height: 30px;\n",
    "      color: white;\n",
    "    }\n",
    "    </style>\n",
    "    <body >\n",
    "\n",
    "\n",
    "    <h1> Job Id: ''' +jobId +'''</h1>\n",
    "\n",
    "    <div id=\"myProgress\">\n",
    "      <div id=\"myBar\">0%</div>\n",
    "    </div>\n",
    "\n",
    "    <script>move();</script>\n",
    "\n",
    "    </body >\n",
    "    </html>\n",
    "\n",
    "\n",
    "        ''') \n",
    "          )\n",
    "    \n",
    "    \n",
    "    return"
   ]
  },
  {
   "cell_type": "code",
   "execution_count": 6,
   "metadata": {
    "collapsed": false
   },
   "outputs": [
    {
     "data": {
      "text/html": [
       "\n",
       "\n",
       "    <html>\n",
       "        \n",
       "    <script>\n",
       "    function move() {\n",
       "      var elem = document.getElementById(\"myBar\");   \n",
       "      var width = 1;\n",
       "      var id = setInterval(frame, 100);\n",
       "      function frame() {\n",
       "        if (width >= 100* 1.0 ) {\n",
       "          clearInterval(id);\n",
       "        } else {\n",
       "          width++; \n",
       "          elem.style.width = width + '%'; \n",
       "          elem.innerHTML = width * 1  + '%';\n",
       "        }\n",
       "      }\n",
       "    }\n",
       "    </script>\n",
       "    \n",
       "    <style>\n",
       "    #myProgress {\n",
       "      width: 100%;\n",
       "      background-color: #ddd;\n",
       "    }\n",
       "\n",
       "    #myBar {\n",
       "      width: 0%;\n",
       "      height: 30px;\n",
       "      background-color: #4CAF50;\n",
       "      text-align: center;\n",
       "      line-height: 30px;\n",
       "      color: white;\n",
       "    }\n",
       "    </style>\n",
       "    <body >\n",
       "\n",
       "\n",
       "    <h1> Job Id: 0</h1>\n",
       "\n",
       "    <div id=\"myProgress\">\n",
       "      <div id=\"myBar\">0%</div>\n",
       "    </div>\n",
       "\n",
       "    <script>move();</script>\n",
       "\n",
       "    </body >\n",
       "    </html>\n",
       "\n",
       "\n",
       "        "
      ],
      "text/plain": [
       "<IPython.core.display.HTML object>"
      ]
     },
     "metadata": {},
     "output_type": "display_data"
    }
   ],
   "source": [
    "# This code will create a dynamic progress bar for the current jobs.\n",
    "\n",
    "allJobs= []\n",
    "currentJobs = []\n",
    "\n",
    "for i in range(1):\n",
    "    # create our spark jobs\n",
    "    # sparkJob()\n",
    "    wordCountExample() \n",
    "    \n",
    "    \n",
    "    \n",
    "    # We get the json data for successful jobs. We could have asked the json data for running jobs as well but \n",
    "    # we will need a bigger running time since when the execution time of the job is small we could miss the information \n",
    "    # because we are using rest api to get it.\n",
    "    # we could use kafka instead but I believe this is not asked for.\n",
    "    response = requests.get(allSucceededJobsUrl) \n",
    "    data = response.json()\n",
    "    currentJobs = []\n",
    "    for j in data:\n",
    "        # we are aiming to monitoring just executed jobs so we are checking if they are \"just\" executed.\n",
    "        if not j['jobId'] in  allJobs:\n",
    "            allJobs.append(j['jobId'])\n",
    "            currentJobs.append(j['jobId'])\n",
    "            jobId = str(j['jobId'])\n",
    "            numTasks = j['numTasks']\n",
    "            numCompletedTasks = j['numCompletedTasks']\n",
    "            # we don't like to see division by zero error.\n",
    "            if not(numTasks is 0):\n",
    "                percentage = str(float(numCompletedTasks / numTasks))\n",
    "                # call the html and javascript functions.\n",
    "                ProgressBar(jobId,percentage)\n",
    "                # We should wait until the bar finishes.\n",
    "                # Also we want to see more our beautiful progress bar :) \n",
    "                time.sleep(10)"
   ]
  }
 ],
 "metadata": {
  "kernelspec": {
   "display_name": "Python [Root]",
   "language": "python",
   "name": "Python [Root]"
  },
  "language_info": {
   "codemirror_mode": {
    "name": "ipython",
    "version": 3
   },
   "file_extension": ".py",
   "mimetype": "text/x-python",
   "name": "python",
   "nbconvert_exporter": "python",
   "pygments_lexer": "ipython3",
   "version": "3.5.2"
  }
 },
 "nbformat": 4,
 "nbformat_minor": 2
}
